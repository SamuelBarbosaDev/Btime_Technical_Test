{
 "cells": [
  {
   "cell_type": "code",
   "execution_count": 1,
   "metadata": {},
   "outputs": [],
   "source": [
    "import sys\n",
    "sys.path.append('../core')\n",
    "# importando script\n",
    "from script_connect_postgres import connect_postgres"
   ]
  },
  {
   "cell_type": "code",
   "execution_count": 2,
   "metadata": {},
   "outputs": [],
   "source": [
    "import pandas as pd\n",
    "from decouple import config\n",
    "import matplotlib.pyplot as plt\n",
    "from utils.DataUnderstanding import DataUnderstanding"
   ]
  },
  {
   "cell_type": "markdown",
   "metadata": {},
   "source": [
    "# Estudo sobre o aluguel de filmes:"
   ]
  },
  {
   "cell_type": "markdown",
   "metadata": {},
   "source": [
    "Conectando ao Postgres:"
   ]
  },
  {
   "cell_type": "code",
   "execution_count": 3,
   "metadata": {},
   "outputs": [],
   "source": [
    "conn = connect_postgres(\n",
    "    dbname=config('DBNAME'),\n",
    "    user=config('USER'),\n",
    "    password=config('PASSWORD'),\n",
    "    host=config('HOST'),\n",
    "    port=config('PORT'),\n",
    ")"
   ]
  },
  {
   "cell_type": "markdown",
   "metadata": {},
   "source": [
    "DataFrame:"
   ]
  },
  {
   "cell_type": "code",
   "execution_count": 4,
   "metadata": {},
   "outputs": [],
   "source": [
    "sql_query = \"\"\"\n",
    "SELECT\n",
    "\tf.title,\n",
    "    r.rental_date,\n",
    "    r.return_date\n",
    "FROM rental r\n",
    "\n",
    "join\n",
    "\tinventory i on r.inventory_id = i.inventory_id\n",
    "join\n",
    "\tfilm f on i.film_id = f.film_id\n",
    "\"\"\""
   ]
  },
  {
   "cell_type": "code",
   "execution_count": 5,
   "metadata": {},
   "outputs": [
    {
     "name": "stderr",
     "output_type": "stream",
     "text": [
      "/tmp/ipykernel_10754/1402424599.py:1: UserWarning: pandas only supports SQLAlchemy connectable (engine/connection) or database string URI or sqlite3 DBAPI2 connection. Other DBAPI2 objects are not tested. Please consider using SQLAlchemy.\n",
      "  df = pd.read_sql_query(\n"
     ]
    }
   ],
   "source": [
    "df = pd.read_sql_query(\n",
    "    sql_query,\n",
    "    conn\n",
    ")"
   ]
  },
  {
   "cell_type": "code",
   "execution_count": 6,
   "metadata": {},
   "outputs": [
    {
     "data": {
      "text/html": [
       "<div>\n",
       "<style scoped>\n",
       "    .dataframe tbody tr th:only-of-type {\n",
       "        vertical-align: middle;\n",
       "    }\n",
       "\n",
       "    .dataframe tbody tr th {\n",
       "        vertical-align: top;\n",
       "    }\n",
       "\n",
       "    .dataframe thead th {\n",
       "        text-align: right;\n",
       "    }\n",
       "</style>\n",
       "<table border=\"1\" class=\"dataframe\">\n",
       "  <thead>\n",
       "    <tr style=\"text-align: right;\">\n",
       "      <th></th>\n",
       "      <th>title</th>\n",
       "      <th>rental_date</th>\n",
       "      <th>return_date</th>\n",
       "    </tr>\n",
       "  </thead>\n",
       "  <tbody>\n",
       "    <tr>\n",
       "      <th>0</th>\n",
       "      <td>FREAKY POCUS</td>\n",
       "      <td>2022-05-24 21:54:33+00:00</td>\n",
       "      <td>2022-05-28 18:40:33+00:00</td>\n",
       "    </tr>\n",
       "    <tr>\n",
       "      <th>1</th>\n",
       "      <td>GRADUATE LORD</td>\n",
       "      <td>2022-05-24 22:03:39+00:00</td>\n",
       "      <td>2022-06-01 21:12:39+00:00</td>\n",
       "    </tr>\n",
       "    <tr>\n",
       "      <th>2</th>\n",
       "      <td>LOVE SUICIDES</td>\n",
       "      <td>2022-05-24 22:04:41+00:00</td>\n",
       "      <td>2022-06-03 00:43:41+00:00</td>\n",
       "    </tr>\n",
       "    <tr>\n",
       "      <th>3</th>\n",
       "      <td>IDOLS SNATCHERS</td>\n",
       "      <td>2022-05-24 22:05:21+00:00</td>\n",
       "      <td>2022-06-02 03:33:21+00:00</td>\n",
       "    </tr>\n",
       "    <tr>\n",
       "      <th>4</th>\n",
       "      <td>MYSTIC TRUMAN</td>\n",
       "      <td>2022-05-24 22:08:07+00:00</td>\n",
       "      <td>2022-05-27 00:32:07+00:00</td>\n",
       "    </tr>\n",
       "  </tbody>\n",
       "</table>\n",
       "</div>"
      ],
      "text/plain": [
       "             title               rental_date               return_date\n",
       "0     FREAKY POCUS 2022-05-24 21:54:33+00:00 2022-05-28 18:40:33+00:00\n",
       "1    GRADUATE LORD 2022-05-24 22:03:39+00:00 2022-06-01 21:12:39+00:00\n",
       "2    LOVE SUICIDES 2022-05-24 22:04:41+00:00 2022-06-03 00:43:41+00:00\n",
       "3  IDOLS SNATCHERS 2022-05-24 22:05:21+00:00 2022-06-02 03:33:21+00:00\n",
       "4    MYSTIC TRUMAN 2022-05-24 22:08:07+00:00 2022-05-27 00:32:07+00:00"
      ]
     },
     "metadata": {},
     "output_type": "display_data"
    }
   ],
   "source": [
    "display(df.head())"
   ]
  },
  {
   "cell_type": "markdown",
   "metadata": {},
   "source": [
    "## Código:"
   ]
  },
  {
   "cell_type": "code",
   "execution_count": 7,
   "metadata": {},
   "outputs": [],
   "source": [
    "class AluguelFilmes(DataUnderstanding):\n",
    "    def gráfico_de_distribuição(\n",
    "            self,\n",
    "            figsize: tuple = (15, 6),\n",
    "            dataframe: pd.DataFrame = None,\n",
    "            bins: int = 19,\n",
    "            color: str = 'skyblue',\n",
    "            edgecolor: str = 'black',\n",
    "            title: str = None,\n",
    "            xlabel: str = None,\n",
    "            ylabel: str = None,\n",
    "        ):\n",
    "        # Plotar um histograma da duração dos aluguéis\n",
    "        plt.figure(figsize=figsize)\n",
    "        plt.hist(dataframe, bins=bins, color=color, edgecolor=edgecolor)\n",
    "        plt.title(title)\n",
    "        plt.xlabel(xlabel)\n",
    "        plt.ylabel(ylabel)\n",
    "        plt.grid(True)\n",
    "\n",
    "        # Configurar os rótulos do eixo x em incrementos de 1\n",
    "        max_duration = dataframe.max()\n",
    "        plt.xticks(range(0, int(max_duration) + 1, 1))\n",
    "\n",
    "        # Exibindo gráfico\n",
    "        plt.show()\n",
    "    \n",
    "    def gráfico_de_linhas(\n",
    "        self,\n",
    "        figsize: tuple = (15, 6),\n",
    "        dataframe: pd.DataFrame = None,\n",
    "        x: str = None,\n",
    "        y: str = None,\n",
    "        marker: str = 'o',\n",
    "        linestyle: str = '-',\n",
    "        title: str = None,\n",
    "        xlabel: str = None,\n",
    "        ylabel: str = None,\n",
    "        xticks_rotation: int = 45,\n",
    "    ):\n",
    "        # Plotar um gráfico de linha\n",
    "        plt.figure(figsize=figsize)\n",
    "        plt.plot(dataframe[x], dataframe[y], marker=marker, linestyle=linestyle)\n",
    "        plt.title(title)\n",
    "        plt.xlabel(xlabel)\n",
    "        plt.ylabel(ylabel)\n",
    "        plt.grid(True)\n",
    "        plt.xticks(rotation=xticks_rotation)  # Rotacionar os rótulos do eixo x para melhor legibilidade\n",
    "\n",
    "        plt.tight_layout()\n",
    "        plt.show()\n",
    "\n",
    "\n",
    "if __name__ == '__main__':\n",
    "    aluguel_filmes = AluguelFilmes()"
   ]
  },
  {
   "cell_type": "markdown",
   "metadata": {},
   "source": [
    "## Entedimento Dos Dados:"
   ]
  },
  {
   "cell_type": "code",
   "execution_count": 8,
   "metadata": {},
   "outputs": [
    {
     "data": {
      "text/html": [
       "<div>\n",
       "<style scoped>\n",
       "    .dataframe tbody tr th:only-of-type {\n",
       "        vertical-align: middle;\n",
       "    }\n",
       "\n",
       "    .dataframe tbody tr th {\n",
       "        vertical-align: top;\n",
       "    }\n",
       "\n",
       "    .dataframe thead th {\n",
       "        text-align: right;\n",
       "    }\n",
       "</style>\n",
       "<table border=\"1\" class=\"dataframe\">\n",
       "  <thead>\n",
       "    <tr style=\"text-align: right;\">\n",
       "      <th></th>\n",
       "      <th>title</th>\n",
       "      <th>rental_date</th>\n",
       "      <th>return_date</th>\n",
       "    </tr>\n",
       "  </thead>\n",
       "  <tbody>\n",
       "    <tr>\n",
       "      <th>0</th>\n",
       "      <td>FREAKY POCUS</td>\n",
       "      <td>2022-05-24 21:54:33+00:00</td>\n",
       "      <td>2022-05-28 18:40:33+00:00</td>\n",
       "    </tr>\n",
       "    <tr>\n",
       "      <th>1</th>\n",
       "      <td>GRADUATE LORD</td>\n",
       "      <td>2022-05-24 22:03:39+00:00</td>\n",
       "      <td>2022-06-01 21:12:39+00:00</td>\n",
       "    </tr>\n",
       "    <tr>\n",
       "      <th>2</th>\n",
       "      <td>LOVE SUICIDES</td>\n",
       "      <td>2022-05-24 22:04:41+00:00</td>\n",
       "      <td>2022-06-03 00:43:41+00:00</td>\n",
       "    </tr>\n",
       "  </tbody>\n",
       "</table>\n",
       "</div>"
      ],
      "text/plain": [
       "           title               rental_date               return_date\n",
       "0   FREAKY POCUS 2022-05-24 21:54:33+00:00 2022-05-28 18:40:33+00:00\n",
       "1  GRADUATE LORD 2022-05-24 22:03:39+00:00 2022-06-01 21:12:39+00:00\n",
       "2  LOVE SUICIDES 2022-05-24 22:04:41+00:00 2022-06-03 00:43:41+00:00"
      ]
     },
     "execution_count": 8,
     "metadata": {},
     "output_type": "execute_result"
    }
   ],
   "source": [
    "df.head(3)"
   ]
  },
  {
   "cell_type": "code",
   "execution_count": 9,
   "metadata": {},
   "outputs": [
    {
     "data": {
      "text/html": [
       "<div>\n",
       "<style scoped>\n",
       "    .dataframe tbody tr th:only-of-type {\n",
       "        vertical-align: middle;\n",
       "    }\n",
       "\n",
       "    .dataframe tbody tr th {\n",
       "        vertical-align: top;\n",
       "    }\n",
       "\n",
       "    .dataframe thead th {\n",
       "        text-align: right;\n",
       "    }\n",
       "</style>\n",
       "<table border=\"1\" class=\"dataframe\">\n",
       "  <thead>\n",
       "    <tr style=\"text-align: right;\">\n",
       "      <th></th>\n",
       "      <th>title</th>\n",
       "      <th>rental_date</th>\n",
       "      <th>return_date</th>\n",
       "    </tr>\n",
       "  </thead>\n",
       "  <tbody>\n",
       "    <tr>\n",
       "      <th>16041</th>\n",
       "      <td>HUNCHBACK IMPOSSIBLE</td>\n",
       "      <td>2022-08-23 21:43:07+00:00</td>\n",
       "      <td>2022-08-31 20:33:07+00:00</td>\n",
       "    </tr>\n",
       "    <tr>\n",
       "      <th>16042</th>\n",
       "      <td>MOB DUFFEL</td>\n",
       "      <td>2022-08-23 21:50:12+00:00</td>\n",
       "      <td>2022-08-30 00:01:12+00:00</td>\n",
       "    </tr>\n",
       "    <tr>\n",
       "      <th>16043</th>\n",
       "      <td>BLANKET BEVERLY</td>\n",
       "      <td>2022-05-24 21:53:30+00:00</td>\n",
       "      <td>2022-05-26 21:04:30+00:00</td>\n",
       "    </tr>\n",
       "  </tbody>\n",
       "</table>\n",
       "</div>"
      ],
      "text/plain": [
       "                      title               rental_date  \\\n",
       "16041  HUNCHBACK IMPOSSIBLE 2022-08-23 21:43:07+00:00   \n",
       "16042            MOB DUFFEL 2022-08-23 21:50:12+00:00   \n",
       "16043       BLANKET BEVERLY 2022-05-24 21:53:30+00:00   \n",
       "\n",
       "                    return_date  \n",
       "16041 2022-08-31 20:33:07+00:00  \n",
       "16042 2022-08-30 00:01:12+00:00  \n",
       "16043 2022-05-26 21:04:30+00:00  "
      ]
     },
     "execution_count": 9,
     "metadata": {},
     "output_type": "execute_result"
    }
   ],
   "source": [
    "df.tail(3)"
   ]
  },
  {
   "cell_type": "code",
   "execution_count": 10,
   "metadata": {},
   "outputs": [
    {
     "name": "stdout",
     "output_type": "stream",
     "text": [
      "Linhas: 16044 \n",
      "Colunas: 3\n"
     ]
    }
   ],
   "source": [
    "aluguel_filmes.verificando_as_dimensões_do_dataframe(\n",
    "    dataframe=df,\n",
    ")"
   ]
  },
  {
   "cell_type": "code",
   "execution_count": 11,
   "metadata": {},
   "outputs": [
    {
     "data": {
      "text/html": [
       "<div>\n",
       "<style scoped>\n",
       "    .dataframe tbody tr th:only-of-type {\n",
       "        vertical-align: middle;\n",
       "    }\n",
       "\n",
       "    .dataframe tbody tr th {\n",
       "        vertical-align: top;\n",
       "    }\n",
       "\n",
       "    .dataframe thead th {\n",
       "        text-align: right;\n",
       "    }\n",
       "</style>\n",
       "<table border=\"1\" class=\"dataframe\">\n",
       "  <thead>\n",
       "    <tr style=\"text-align: right;\">\n",
       "      <th></th>\n",
       "      <th>count</th>\n",
       "      <th>unique</th>\n",
       "      <th>top</th>\n",
       "      <th>freq</th>\n",
       "      <th>mean</th>\n",
       "      <th>min</th>\n",
       "      <th>10%</th>\n",
       "      <th>15%</th>\n",
       "      <th>25%</th>\n",
       "      <th>50%</th>\n",
       "      <th>75%</th>\n",
       "      <th>85%</th>\n",
       "      <th>95%</th>\n",
       "      <th>99%</th>\n",
       "      <th>max</th>\n",
       "    </tr>\n",
       "  </thead>\n",
       "  <tbody>\n",
       "    <tr>\n",
       "      <th>title</th>\n",
       "      <td>16044</td>\n",
       "      <td>958</td>\n",
       "      <td>BUCKET BROTHERHOOD</td>\n",
       "      <td>34</td>\n",
       "      <td>NaN</td>\n",
       "      <td>NaN</td>\n",
       "      <td>NaN</td>\n",
       "      <td>NaN</td>\n",
       "      <td>NaN</td>\n",
       "      <td>NaN</td>\n",
       "      <td>NaN</td>\n",
       "      <td>NaN</td>\n",
       "      <td>NaN</td>\n",
       "      <td>NaN</td>\n",
       "      <td>NaN</td>\n",
       "    </tr>\n",
       "    <tr>\n",
       "      <th>rental_date</th>\n",
       "      <td>16044</td>\n",
       "      <td>NaN</td>\n",
       "      <td>NaN</td>\n",
       "      <td>NaN</td>\n",
       "      <td>2022-07-19 03:51:15.835327744+00:00</td>\n",
       "      <td>2022-02-14 15:16:03+00:00</td>\n",
       "      <td>2022-06-15 17:09:53.600000+00:00</td>\n",
       "      <td>2022-06-18 02:41:29.149999872+00:00</td>\n",
       "      <td>2022-07-06 15:10:56+00:00</td>\n",
       "      <td>2022-07-28 08:13:20.500000+00:00</td>\n",
       "      <td>2022-08-17 13:16:42+00:00</td>\n",
       "      <td>2022-08-20 02:53:18.200000+00:00</td>\n",
       "      <td>2022-08-22 15:37:16.249999872+00:00</td>\n",
       "      <td>2022-08-23 15:52:44.720000+00:00</td>\n",
       "      <td>2022-08-23 21:50:12+00:00</td>\n",
       "    </tr>\n",
       "    <tr>\n",
       "      <th>return_date</th>\n",
       "      <td>15861</td>\n",
       "      <td>NaN</td>\n",
       "      <td>NaN</td>\n",
       "      <td>NaN</td>\n",
       "      <td>2022-07-25 22:58:03.138768128+00:00</td>\n",
       "      <td>2022-05-25 22:55:21+00:00</td>\n",
       "      <td>2022-06-20 05:54:02+00:00</td>\n",
       "      <td>2022-06-23 15:29:29+00:00</td>\n",
       "      <td>2022-07-10 14:49:36+00:00</td>\n",
       "      <td>2022-08-01 18:45:29+00:00</td>\n",
       "      <td>2022-08-20 22:35:55+00:00</td>\n",
       "      <td>2022-08-25 02:32:51+00:00</td>\n",
       "      <td>2022-08-28 15:10:09+00:00</td>\n",
       "      <td>2022-08-31 03:34:17.800000+00:00</td>\n",
       "      <td>2022-09-02 01:35:22+00:00</td>\n",
       "    </tr>\n",
       "  </tbody>\n",
       "</table>\n",
       "</div>"
      ],
      "text/plain": [
       "             count unique                 top freq  \\\n",
       "title        16044    958  BUCKET BROTHERHOOD   34   \n",
       "rental_date  16044    NaN                 NaN  NaN   \n",
       "return_date  15861    NaN                 NaN  NaN   \n",
       "\n",
       "                                            mean                        min  \\\n",
       "title                                        NaN                        NaN   \n",
       "rental_date  2022-07-19 03:51:15.835327744+00:00  2022-02-14 15:16:03+00:00   \n",
       "return_date  2022-07-25 22:58:03.138768128+00:00  2022-05-25 22:55:21+00:00   \n",
       "\n",
       "                                          10%  \\\n",
       "title                                     NaN   \n",
       "rental_date  2022-06-15 17:09:53.600000+00:00   \n",
       "return_date         2022-06-20 05:54:02+00:00   \n",
       "\n",
       "                                             15%                        25%  \\\n",
       "title                                        NaN                        NaN   \n",
       "rental_date  2022-06-18 02:41:29.149999872+00:00  2022-07-06 15:10:56+00:00   \n",
       "return_date            2022-06-23 15:29:29+00:00  2022-07-10 14:49:36+00:00   \n",
       "\n",
       "                                          50%                        75%  \\\n",
       "title                                     NaN                        NaN   \n",
       "rental_date  2022-07-28 08:13:20.500000+00:00  2022-08-17 13:16:42+00:00   \n",
       "return_date         2022-08-01 18:45:29+00:00  2022-08-20 22:35:55+00:00   \n",
       "\n",
       "                                          85%  \\\n",
       "title                                     NaN   \n",
       "rental_date  2022-08-20 02:53:18.200000+00:00   \n",
       "return_date         2022-08-25 02:32:51+00:00   \n",
       "\n",
       "                                             95%  \\\n",
       "title                                        NaN   \n",
       "rental_date  2022-08-22 15:37:16.249999872+00:00   \n",
       "return_date            2022-08-28 15:10:09+00:00   \n",
       "\n",
       "                                          99%                        max  \n",
       "title                                     NaN                        NaN  \n",
       "rental_date  2022-08-23 15:52:44.720000+00:00  2022-08-23 21:50:12+00:00  \n",
       "return_date  2022-08-31 03:34:17.800000+00:00  2022-09-02 01:35:22+00:00  "
      ]
     },
     "execution_count": 11,
     "metadata": {},
     "output_type": "execute_result"
    }
   ],
   "source": [
    "aluguel_filmes.descrição(\n",
    "    dataframe=df,\n",
    "    vertical=True\n",
    ")"
   ]
  },
  {
   "cell_type": "code",
   "execution_count": 12,
   "metadata": {},
   "outputs": [
    {
     "data": {
      "text/html": [
       "<div>\n",
       "<style scoped>\n",
       "    .dataframe tbody tr th:only-of-type {\n",
       "        vertical-align: middle;\n",
       "    }\n",
       "\n",
       "    .dataframe tbody tr th {\n",
       "        vertical-align: top;\n",
       "    }\n",
       "\n",
       "    .dataframe thead th {\n",
       "        text-align: right;\n",
       "    }\n",
       "</style>\n",
       "<table border=\"1\" class=\"dataframe\">\n",
       "  <thead>\n",
       "    <tr style=\"text-align: right;\">\n",
       "      <th></th>\n",
       "      <th>count</th>\n",
       "      <th>unique</th>\n",
       "      <th>top</th>\n",
       "      <th>freq</th>\n",
       "    </tr>\n",
       "  </thead>\n",
       "  <tbody>\n",
       "    <tr>\n",
       "      <th>title</th>\n",
       "      <td>16044</td>\n",
       "      <td>958</td>\n",
       "      <td>BUCKET BROTHERHOOD</td>\n",
       "      <td>34</td>\n",
       "    </tr>\n",
       "  </tbody>\n",
       "</table>\n",
       "</div>"
      ],
      "text/plain": [
       "       count unique                 top freq\n",
       "title  16044    958  BUCKET BROTHERHOOD   34"
      ]
     },
     "execution_count": 12,
     "metadata": {},
     "output_type": "execute_result"
    }
   ],
   "source": [
    "aluguel_filmes.descrição_object(\n",
    "    dataframe=df,\n",
    "    vertical=True,\n",
    ")"
   ]
  },
  {
   "cell_type": "code",
   "execution_count": 13,
   "metadata": {},
   "outputs": [
    {
     "data": {
      "text/html": [
       "<div>\n",
       "<style scoped>\n",
       "    .dataframe tbody tr th:only-of-type {\n",
       "        vertical-align: middle;\n",
       "    }\n",
       "\n",
       "    .dataframe tbody tr th {\n",
       "        vertical-align: top;\n",
       "    }\n",
       "\n",
       "    .dataframe thead th {\n",
       "        text-align: right;\n",
       "    }\n",
       "</style>\n",
       "<table border=\"1\" class=\"dataframe\">\n",
       "  <thead>\n",
       "    <tr style=\"text-align: right;\">\n",
       "      <th></th>\n",
       "      <th>Tipos</th>\n",
       "    </tr>\n",
       "  </thead>\n",
       "  <tbody>\n",
       "    <tr>\n",
       "      <th>title</th>\n",
       "      <td>object</td>\n",
       "    </tr>\n",
       "    <tr>\n",
       "      <th>rental_date</th>\n",
       "      <td>datetime64[ns, UTC]</td>\n",
       "    </tr>\n",
       "    <tr>\n",
       "      <th>return_date</th>\n",
       "      <td>datetime64[ns, UTC]</td>\n",
       "    </tr>\n",
       "  </tbody>\n",
       "</table>\n",
       "</div>"
      ],
      "text/plain": [
       "                           Tipos\n",
       "title                     object\n",
       "rental_date  datetime64[ns, UTC]\n",
       "return_date  datetime64[ns, UTC]"
      ]
     },
     "execution_count": 13,
     "metadata": {},
     "output_type": "execute_result"
    }
   ],
   "source": [
    "aluguel_filmes.verificando_tipos(\n",
    "    dataframe=df\n",
    ")"
   ]
  },
  {
   "cell_type": "code",
   "execution_count": 14,
   "metadata": {},
   "outputs": [
    {
     "data": {
      "text/html": [
       "<style type=\"text/css\">\n",
       "</style>\n",
       "<table id=\"T_c63a9\">\n",
       "  <thead>\n",
       "    <tr>\n",
       "      <th class=\"blank level0\" >&nbsp;</th>\n",
       "      <th id=\"T_c63a9_level0_col0\" class=\"col_heading level0 col0\" >Quantidade</th>\n",
       "      <th id=\"T_c63a9_level0_col1\" class=\"col_heading level0 col1\" >Porcentagem</th>\n",
       "    </tr>\n",
       "  </thead>\n",
       "  <tbody>\n",
       "    <tr>\n",
       "      <th id=\"T_c63a9_level0_row0\" class=\"row_heading level0 row0\" >title</th>\n",
       "      <td id=\"T_c63a9_row0_col0\" class=\"data row0 col0\" >0</td>\n",
       "      <td id=\"T_c63a9_row0_col1\" class=\"data row0 col1\" >0.00%</td>\n",
       "    </tr>\n",
       "    <tr>\n",
       "      <th id=\"T_c63a9_level0_row1\" class=\"row_heading level0 row1\" >rental_date</th>\n",
       "      <td id=\"T_c63a9_row1_col0\" class=\"data row1 col0\" >0</td>\n",
       "      <td id=\"T_c63a9_row1_col1\" class=\"data row1 col1\" >0.00%</td>\n",
       "    </tr>\n",
       "    <tr>\n",
       "      <th id=\"T_c63a9_level0_row2\" class=\"row_heading level0 row2\" >return_date</th>\n",
       "      <td id=\"T_c63a9_row2_col0\" class=\"data row2 col0\" >183</td>\n",
       "      <td id=\"T_c63a9_row2_col1\" class=\"data row2 col1\" >1.14%</td>\n",
       "    </tr>\n",
       "  </tbody>\n",
       "</table>\n"
      ],
      "text/plain": [
       "<pandas.io.formats.style.Styler at 0x7fb89b0318d0>"
      ]
     },
     "execution_count": 14,
     "metadata": {},
     "output_type": "execute_result"
    }
   ],
   "source": [
    "aluguel_filmes.verificando_valores_nulos(\n",
    "    dataframe=df\n",
    ")"
   ]
  },
  {
   "cell_type": "markdown",
   "metadata": {},
   "source": [
    "## Análise:"
   ]
  },
  {
   "cell_type": "markdown",
   "metadata": {},
   "source": [
    "1. Crie uma visualização que mostre a distribuição da duração dos aluguéis dos filmes na base de dados."
   ]
  },
  {
   "cell_type": "code",
   "execution_count": 15,
   "metadata": {},
   "outputs": [],
   "source": [
    "# Criando uma cópia do dataframe\n",
    "df_distribuicao_filmes = df.copy()"
   ]
  },
  {
   "cell_type": "code",
   "execution_count": 16,
   "metadata": {},
   "outputs": [],
   "source": [
    "# Calcular a duração de cada aluguel (em dias)\n",
    "df_distribuicao_filmes['rental_duration'] = (\n",
    "    df_distribuicao_filmes['return_date'] - df_distribuicao_filmes['rental_date']\n",
    ").dt.days"
   ]
  },
  {
   "cell_type": "code",
   "execution_count": 17,
   "metadata": {},
   "outputs": [
    {
     "data": {
      "image/png": "[encoded data removed]",
      "text/plain": [
       "<Figure size 1500x600 with 1 Axes>"
      ]
     },
     "metadata": {},
     "output_type": "display_data"
    }
   ],
   "source": [
    "aluguel_filmes.gráfico_de_distribuição(\n",
    "    dataframe=df_distribuicao_filmes['rental_duration'],\n",
    "    title='Distribuição da Duração dos Aluguéis',\n",
    "    xlabel='Duração (em dias)',\n",
    "    ylabel='Frequência',\n",
    ")"
   ]
  },
  {
   "cell_type": "markdown",
   "metadata": {},
   "source": [
    "**Resposta:** *Temos um total de aproximadamente 16 mil filmes alugados. É evidente que a maioria dos clientes mantém os filmes por mais de um dia.*"
   ]
  },
  {
   "cell_type": "markdown",
   "metadata": {},
   "source": [
    "2. Realize uma análise de tendências mensais no número de aluguéis de filmes ao longo do tempo e apresente os resultados em um gráfico de linha."
   ]
  },
  {
   "cell_type": "code",
   "execution_count": 18,
   "metadata": {},
   "outputs": [],
   "source": [
    "# Criando uma cópia do dataframe\n",
    "df_tendencias_mensais = df.copy()"
   ]
  },
  {
   "cell_type": "code",
   "execution_count": 19,
   "metadata": {},
   "outputs": [],
   "source": [
    "# Extrair o mês e o ano de cada data de aluguel\n",
    "df_tendencias_mensais['year'] = df_tendencias_mensais['rental_date'].dt.year\n",
    "df_tendencias_mensais['month'] = df_tendencias_mensais['rental_date'].dt.month"
   ]
  },
  {
   "cell_type": "code",
   "execution_count": 20,
   "metadata": {},
   "outputs": [],
   "source": [
    "# Agrupar os dados por mês e contar o número de aluguéis em cada mês\n",
    "alugueis_mensais = df_tendencias_mensais.groupby(['year', 'month']).size().reset_index(name='num_rentals')\n",
    "\n",
    "# Criar um índice de data para o gráfico\n",
    "alugueis_mensais['date'] = pd.to_datetime(alugueis_mensais[['year', 'month']].assign(day=1))"
   ]
  },
  {
   "cell_type": "code",
   "execution_count": 21,
   "metadata": {},
   "outputs": [
    {
     "data": {
      "image/png": "[encoded data removed]",
      "text/plain": [
       "<Figure size 1500x600 with 1 Axes>"
      ]
     },
     "metadata": {},
     "output_type": "display_data"
    }
   ],
   "source": [
    "aluguel_filmes.gráfico_de_linhas(\n",
    "    dataframe=alugueis_mensais,\n",
    "    x='date',\n",
    "    y='num_rentals',\n",
    "    title='Tendência Mensal no Número de Aluguéis de Filmes',\n",
    "    xlabel='Data',\n",
    "    ylabel='Número de Aluguéis',\n",
    ")"
   ]
  },
  {
   "cell_type": "markdown",
   "metadata": {},
   "source": [
    "**Resposta:** *Podemos observar que a partir do mês de junho de 2022, tivemos um aumento exponencial no número de aluguéis de filmes.*"
   ]
  }
 ],
 "metadata": {
  "kernelspec": {
   "display_name": ".venv",
   "language": "python",
   "name": "python3"
  },
  "language_info": {
   "codemirror_mode": {
    "name": "ipython",
    "version": 3
   },
   "file_extension": ".py",
   "mimetype": "text/x-python",
   "name": "python",
   "nbconvert_exporter": "python",
   "pygments_lexer": "ipython3",
   "version": "3.10.12"
  },
  "orig_nbformat": 4
 },
 "nbformat": 4,
 "nbformat_minor": 2
}
